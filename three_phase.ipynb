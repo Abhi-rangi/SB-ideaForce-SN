{
 "cells": [
  {
   "cell_type": "code",
   "execution_count": 2,
   "metadata": {},
   "outputs": [],
   "source": [
    "import pandas as pd\n",
    "import networkx as nx\n",
    "from itertools import combinations"
   ]
  },
  {
   "cell_type": "code",
   "execution_count": 3,
   "metadata": {},
   "outputs": [],
   "source": [
    "sug = pd.read_csv(\"sbf_suggestion.csv\") \\\n",
    "        .rename(columns={\"author\": \"author_sug\"})\n",
    "com = pd.read_csv(\"sbf_comment.csv\") \\\n",
    "        .rename(columns={\"author\": \"author_com\"})"
   ]
  },
  {
   "cell_type": "code",
   "execution_count": 4,
   "metadata": {},
   "outputs": [],
   "source": [
    "# Define explicit datetime format for your timestamp columns\n",
    "date_format = \"%m/%d/%Y %I:%M %p\""
   ]
  },
  {
   "cell_type": "code",
   "execution_count": 5,
   "metadata": {},
   "outputs": [],
   "source": [
    "\n",
    "# Parse timestamps, coercing malformed entries to NaT\n",
    "sug[\"timestamp\"] = pd.to_datetime(\n",
    "    sug[\"timestamp\"],\n",
    "    format=date_format,\n",
    "    errors=\"coerce\"\n",
    ")\n",
    "com[\"timestamp\"] = pd.to_datetime(\n",
    "    com[\"timestamp\"],\n",
    "    format=date_format,\n",
    "    errors=\"coerce\"\n",
    ")"
   ]
  },
  {
   "cell_type": "code",
   "execution_count": 6,
   "metadata": {},
   "outputs": [
    {
     "name": "stdout",
     "output_type": "stream",
     "text": [
      "After cleaning:\n",
      "  Suggestions: (116673, 8)\n",
      "  Comments:    (237925, 6)\n"
     ]
    }
   ],
   "source": [
    "\n",
    "# Drop any rows missing a suggestionId, author, or valid timestamp\n",
    "sug.dropna(subset=[\"suggestionId\", \"author_sug\", \"timestamp\"], inplace=True)\n",
    "com.dropna(subset=[\"suggestionId\", \"author_com\", \"timestamp\"], inplace=True)\n",
    "\n",
    "print(\"After cleaning:\")\n",
    "print(\"  Suggestions:\", sug.shape)  # Expect ~116673 × 8\n",
    "print(\"  Comments:   \", com.shape)  # Expect ~237925 × 6"
   ]
  },
  {
   "cell_type": "code",
   "execution_count": 7,
   "metadata": {},
   "outputs": [],
   "source": [
    "# --- 2. Node & Edge Construction ---\n",
    "\n",
    "# A. Directed Comment Flow (comment-author -> suggestion-author)\n",
    "merged = com[[\"suggestionId\",\"author_com\"]].merge(\n",
    "    sug[[\"suggestionId\",\"author_sug\"]],\n",
    "    on=\"suggestionId\"\n",
    ")\n",
    "edge_flow = (\n",
    "    merged\n",
    "    .groupby([\"author_com\",\"author_sug\"])\n",
    "    .size()\n",
    "    .reset_index(name=\"weight\")\n",
    "    .rename(columns={\"author_com\":\"src\",\"author_sug\":\"dst\"})\n",
    ")"
   ]
  },
  {
   "cell_type": "code",
   "execution_count": 8,
   "metadata": {},
   "outputs": [],
   "source": [
    "# B. Undirected Co-commenter (users who commented the same suggestion)\n",
    "co_pairs = []\n",
    "for _, grp in com.groupby(\"suggestionId\")[\"author_com\"]:\n",
    "    users = set(grp)\n",
    "    for u, v in combinations(users, 2):\n",
    "        co_pairs.append((u, v))\n",
    "df_co = pd.DataFrame(co_pairs, columns=[\"u\",\"v\"])\n",
    "edge_co = (\n",
    "    df_co\n",
    "    .groupby([\"u\",\"v\"])\n",
    "    .size()\n",
    "    .reset_index(name=\"weight\")\n",
    ")"
   ]
  },
  {
   "cell_type": "code",
   "execution_count": 9,
   "metadata": {},
   "outputs": [],
   "source": [
    "# C. Suggestion Projection (suggestions linked by shared users)\n",
    "# Build a user–suggestion mapping from both authorship and comments\n",
    "sug_edges = pd.concat([\n",
    "    sug[[\"suggestionId\",\"author_sug\"]].rename(columns={\"author_sug\":\"user\"}),\n",
    "    com[[\"suggestionId\",\"author_com\"]].rename(columns={\"author_com\":\"user\"})\n",
    "]).drop_duplicates()\n",
    "\n",
    "proj_pairs = []\n",
    "for _, group in sug_edges.groupby(\"user\")[\"suggestionId\"]:\n",
    "    for s1, s2 in combinations(set(group), 2):\n",
    "        proj_pairs.append((s1, s2))\n",
    "df_proj = pd.DataFrame(proj_pairs, columns=[\"s1\",\"s2\"])\n",
    "edge_proj = (\n",
    "    df_proj\n",
    "    .groupby([\"s1\",\"s2\"])\n",
    "    .size()\n",
    "    .reset_index(name=\"weight\")\n",
    ")\n"
   ]
  },
  {
   "cell_type": "code",
   "execution_count": 10,
   "metadata": {},
   "outputs": [],
   "source": [
    "# D. Bipartite User–Suggestion\n",
    "bip_edges = (\n",
    "    sug_edges\n",
    "    .groupby([\"user\",\"suggestionId\"])\n",
    "    .size()\n",
    "    .reset_index(name=\"weight\")\n",
    ")\n"
   ]
  },
  {
   "cell_type": "code",
   "execution_count": 11,
   "metadata": {},
   "outputs": [],
   "source": [
    "# --- 3. Graph Assembly & Export to GEXF ---\n",
    "\n",
    "# 3A. Directed Comment Flow Graph\n",
    "G_flow = nx.DiGraph()\n",
    "for _, row in edge_flow.iterrows():\n",
    "    G_flow.add_edge(row.src, row.dst, weight=int(row.weight))\n",
    "nx.write_gexf(G_flow, \"./gephi/comment_flow.gexf\")\n"
   ]
  },
  {
   "cell_type": "code",
   "execution_count": 12,
   "metadata": {},
   "outputs": [],
   "source": [
    "# 3B. Undirected Co-commenter Graph\n",
    "G_co = nx.Graph()\n",
    "for _, row in edge_co.iterrows():\n",
    "    G_co.add_edge(row.u, row.v, weight=int(row.weight))\n",
    "nx.write_gexf(G_co, \"./gephi/co_commenters.gexf\")\n"
   ]
  },
  {
   "cell_type": "code",
   "execution_count": null,
   "metadata": {},
   "outputs": [],
   "source": [
    "# 3C. Suggestion Projection Graph (undirected)\n",
    "G_proj = nx.Graph()\n",
    "for _, row in edge_proj.iterrows():\n",
    "    # prefix 'sug_' to avoid name collisions with user names\n",
    "    G_proj.add_edge(f\"sug_{row.s1}\", f\"sug_{row.s2}\", weight=int(row.weight))\n",
    "nx.write_gexf(G_proj, \"./gephi/suggestion_projection.gexf\")\n"
   ]
  },
  {
   "cell_type": "code",
   "execution_count": null,
   "metadata": {},
   "outputs": [],
   "source": []
  },
  {
   "cell_type": "code",
   "execution_count": null,
   "metadata": {},
   "outputs": [],
   "source": []
  }
 ],
 "metadata": {
  "language_info": {
   "name": "python"
  }
 },
 "nbformat": 4,
 "nbformat_minor": 2
}
